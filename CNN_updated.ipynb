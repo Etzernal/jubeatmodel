{
 "cells": [
  {
   "cell_type": "code",
   "execution_count": 1,
   "metadata": {},
   "outputs": [
    {
     "name": "stderr",
     "output_type": "stream",
     "text": [
      "'ls' is not recognized as an internal or external command,\n",
      "operable program or batch file.\n"
     ]
    }
   ],
   "source": [
    "!ls"
   ]
  },
  {
   "cell_type": "code",
   "execution_count": 3,
   "metadata": {},
   "outputs": [],
   "source": [
    "import numpy as np\n",
    "from tensorflow import keras\n",
    "from tensorflow.keras.layers import *\n",
    "from tensorflow.keras.preprocessing.image import load_img\n",
    "import os\n",
    "from tensorflow.keras.callbacks import *\n",
    "from tensorflow.keras.metrics import *"
   ]
  },
  {
   "cell_type": "code",
   "execution_count": 22,
   "metadata": {},
   "outputs": [],
   "source": [
    "TRAIN_DIR_DATA = \"./train/data/\"\n",
    "TRAIN_DIR_LABEL = \"./train/label/\"\n",
    "VAL_DIR_DATA = \"./test/data/\"\n",
    "VAL_DIR_LABEL = \"./test/label/\"\n",
    "\n",
    "MEMO_DIR = \"./memo/\""
   ]
  },
  {
   "cell_type": "markdown",
   "metadata": {},
   "source": [
    "# DATA"
   ]
  },
  {
   "cell_type": "code",
   "execution_count": 23,
   "metadata": {},
   "outputs": [],
   "source": [
    "\n",
    "def get_data(data_files):\n",
    "\n",
    "    data = None\n",
    "    label = None\n",
    "    for dfile in data_files:\n",
    "        if np.array_equal(data,None): \n",
    "            data = np.load(TRAIN_DIR_DATA + dfile)\n",
    "            label = np.load(TRAIN_DIR_LABEL + dfile.split(\".\")[0] + \" label.npy\")\n",
    "        else: \n",
    "            data = np.concatenate((data,np.load(TRAIN_DIR_DATA + dfile)))\n",
    "            label = np.concatenate((label,np.load(TRAIN_DIR_LABEL + dfile.split(\".\")[0] + \" label.npy\")) )\n",
    "    data = np.reshape(data,(data.shape[0],data.shape[1],data.shape[2],1))\n",
    "    label = np.reshape(label,(label.shape[0],label.shape[1],label.shape[2],1))\n",
    "    return data,label\n",
    "\n",
    "\n",
    "data_files = os.listdir(TRAIN_DIR_DATA)[:2]  \n",
    "data,label = get_data(data_files)\n",
    "# print(data[0])\n",
    "# print(label[0])\n"
   ]
  },
  {
   "cell_type": "code",
   "execution_count": 24,
   "metadata": {},
   "outputs": [],
   "source": [
    "class JubeatDataset(keras.utils.Sequence):\n",
    "    \"\"\"Helper to iterate over the data (as Numpy arrays).\"\"\"\n",
    "\n",
    "    def __init__(self, batch_size, img_size, input_img, target_img):\n",
    "        self.batch_size = batch_size\n",
    "        self.img_size = img_size\n",
    "        self.input_img = input_img\n",
    "        self.target_img = target_img\n",
    "\n",
    "    def __len__(self):\n",
    "        return len(self.target_img) // self.batch_size\n",
    "\n",
    "    def __getitem__(self, idx):\n",
    "        \"\"\"Returns tuple (input, target) correspond to batch #idx.\"\"\"\n",
    "        i = idx * self.batch_size\n",
    "        x = self.input_img[i : i + self.batch_size]\n",
    "        y = self.target_img[i : i + self.batch_size]\n",
    "        return x, y"
   ]
  },
  {
   "cell_type": "markdown",
   "metadata": {},
   "source": [
    "# Model"
   ]
  },
  {
   "cell_type": "code",
   "execution_count": 25,
   "metadata": {},
   "outputs": [],
   "source": [
    "img_size = (4, 4)\n",
    "num_classes = 11\n",
    "batch_size = 8\n",
    "\n",
    "train_gen = JubeatDataset(batch_size,img_size,data,label)"
   ]
  },
  {
   "cell_type": "code",
   "execution_count": 26,
   "metadata": {},
   "outputs": [],
   "source": [
    "# Define the model here \n",
    "input_height = 4\n",
    "input_width = 4\n",
    "n_classes = 11\n",
    "\n",
    "# Encoder layer \n",
    "img_input = Input(shape=(input_height,input_width,1))\n",
    "\n",
    "conv1 = Conv2D(32, (3, 3), activation='relu', padding='same')(img_input)\n",
    "conv1 = Dropout(0.2)(conv1)\n",
    "conv1 = Conv2D(32, (3, 3), activation='relu', padding='same')(conv1)\n",
    "pool1 = MaxPooling2D((2, 2))(conv1)\n",
    "\n",
    "conv2 = Conv2D(64, (3, 3), activation='relu', padding='same')(pool1)\n",
    "conv2 = Dropout(0.2)(conv2)\n",
    "conv2 = Conv2D(64, (3, 3), activation='relu', padding='same')(conv2)\n",
    "pool2 = MaxPooling2D((2, 2))(conv2)\n",
    "\n",
    "# Decoder layer \n",
    "conv3 = Conv2D(128, (3, 3), activation='relu', padding='same')(pool2)\n",
    "conv3 = Dropout(0.2)(conv3)\n",
    "conv3 = Conv2D(128, (3, 3), activation='relu', padding='same')(conv3)\n",
    "\n",
    "up1 = concatenate([UpSampling2D((2, 2))(conv3), conv2], axis=-1)\n",
    "conv4 = Conv2D(64, (3, 3), activation='relu', padding='same')(up1)\n",
    "conv4 = Dropout(0.2)(conv4)\n",
    "conv4 = Conv2D(64, (3, 3), activation='relu', padding='same')(conv4)\n",
    "\n",
    "up2 = concatenate([UpSampling2D((2, 2))(conv4), conv1], axis=-1)\n",
    "conv5 = Conv2D(32, (3, 3), activation='relu', padding='same')(up2)\n",
    "conv5 = Dropout(0.2)(conv5)\n",
    "conv5 = Conv2D(32, (3, 3), activation='relu', padding='same')(conv5)\n",
    "\n",
    "out = Conv2D( n_classes, (1, 1) , padding='same')(conv5)\n"
   ]
  },
  {
   "cell_type": "markdown",
   "metadata": {},
   "source": [
    "# Training"
   ]
  },
  {
   "cell_type": "code",
   "execution_count": 27,
   "metadata": {
    "scrolled": true
   },
   "outputs": [],
   "source": [
    "import tensorflow as tf\n",
    "from tensorflow.keras.optimizers import *\n",
    "\n",
    "model = keras.Model(img_input, out)\n",
    "model.compile(optimizer = 'rmsprop', loss = 'sparse_categorical_crossentropy')\n",
    "# model.summary()\n",
    "\n",
    "checkpoint_filepath = './checkpoint/model.h5'\n",
    "# metrics = [tf.keras.metrics.MeanIoU(num_classes=num_classes),]\n",
    "\n",
    "\n",
    "# callbacks = [\n",
    "        \n",
    "#     ModelCheckpoint(\n",
    "#     filepath=checkpoint_filepath,\n",
    "#     save_weights_only=False,\n",
    "#     monitor='loss',\n",
    "#     mode='max',\n",
    "#     save_best_only=True),\n",
    "# #     ModelCheckpoint(\"oxford_segmentation.h5\", save_best_only=True),\n",
    "#     TensorBoard(log_dir='./logs',histogram_freq=0,\n",
    "#                 write_graph=True, write_images=True)\n",
    "# ]\n",
    "\n",
    "# epochs = 50\n",
    "# history = model.fit(train_gen, epochs=epochs, validation_data=None, callbacks=callbacks)\n"
   ]
  },
  {
   "cell_type": "code",
   "execution_count": 28,
   "metadata": {},
   "outputs": [
    {
     "data": {
      "text/plain": [
       "array([[0, 0, 0, 0],\n",
       "       [0, 8, 0, 0],\n",
       "       [0, 0, 0, 0],\n",
       "       [0, 0, 0, 0]])"
      ]
     },
     "execution_count": 28,
     "metadata": {},
     "output_type": "execute_result"
    }
   ],
   "source": [
    "model.load_weights(checkpoint_filepath)\n",
    "\n",
    "# loss, acc = model.evaluate(data[:5], label[:5], verbose=2)\n",
    "# print(\"Untrained model, accuracy: {:5.2f}%\".format(100 * acc))\n",
    "\n",
    "train_preds = model.predict(train_gen)\n",
    "# train_preds[0].astype(int)\n",
    "\n",
    "mask = np.argmax(train_preds[0], axis=-1)\n",
    "mask\n"
   ]
  },
  {
   "cell_type": "code",
   "execution_count": 29,
   "metadata": {},
   "outputs": [
    {
     "name": "stdout",
     "output_type": "stream",
     "text": [
      "PREDICTION\n",
      "[[0 0 0 0]\n",
      " [1 0 0 0]\n",
      " [0 0 0 0]\n",
      " [0 0 0 0]]\n",
      "LABEL\n",
      "[[0 0 0 0]\n",
      " [4 0 0 0]\n",
      " [0 0 0 0]\n",
      " [0 0 0 0]]\n",
      "\n",
      "\n",
      "PREDICTION\n",
      "[[0 0 0 0]\n",
      " [0 0 0 6]\n",
      " [0 0 0 0]\n",
      " [0 0 0 0]]\n",
      "LABEL\n",
      "[[0 0 0 0]\n",
      " [0 0 0 7]\n",
      " [0 0 0 0]\n",
      " [0 0 0 0]]\n",
      "\n",
      "\n",
      "PREDICTION\n",
      "[[0 0 0 0]\n",
      " [0 0 0 0]\n",
      " [0 8 0 0]\n",
      " [0 0 0 0]]\n",
      "LABEL\n",
      "[[0 0 0 0]\n",
      " [0 0 0 0]\n",
      " [0 5 0 0]\n",
      " [0 0 0 0]]\n",
      "\n",
      "\n",
      "PREDICTION\n",
      "[[0 0 0 0]\n",
      " [0 0 8 0]\n",
      " [0 0 0 0]\n",
      " [0 0 0 0]]\n",
      "LABEL\n",
      "[[0 0 0 0]\n",
      " [0 0 7 0]\n",
      " [0 0 0 0]\n",
      " [0 0 0 0]]\n",
      "\n",
      "\n",
      "PREDICTION\n",
      "[[8 0 0 0]\n",
      " [0 0 0 0]\n",
      " [0 0 0 0]\n",
      " [0 0 0 0]]\n",
      "LABEL\n",
      "[[4 0 0 0]\n",
      " [0 0 0 0]\n",
      " [0 0 0 0]\n",
      " [0 0 0 0]]\n",
      "\n",
      "\n",
      "PREDICTION\n",
      "[[0 0 0 0]\n",
      " [0 8 0 0]\n",
      " [0 0 0 0]\n",
      " [0 0 0 0]]\n",
      "LABEL\n",
      "[[0 0 0 0]\n",
      " [0 5 0 0]\n",
      " [0 0 0 0]\n",
      " [0 0 0 0]]\n",
      "\n",
      "\n",
      "PREDICTION\n",
      "[[0 0 0 0]\n",
      " [0 0 0 0]\n",
      " [0 0 8 0]\n",
      " [0 0 0 0]]\n",
      "LABEL\n",
      "[[0 0 0 0]\n",
      " [0 0 0 0]\n",
      " [0 0 6 0]\n",
      " [0 0 0 0]]\n",
      "\n",
      "\n",
      "PREDICTION\n",
      "[[0 0 0 0]\n",
      " [0 0 0 0]\n",
      " [0 0 0 0]\n",
      " [9 0 0 0]]\n",
      "LABEL\n",
      "[[0 0 0 0]\n",
      " [0 0 0 0]\n",
      " [0 0 0 0]\n",
      " [5 0 0 0]]\n",
      "\n",
      "\n",
      "PREDICTION\n",
      "[[0 0 0 0]\n",
      " [0 0 0 0]\n",
      " [0 0 0 6]\n",
      " [0 0 0 0]]\n",
      "LABEL\n",
      "[[0 0 0 0]\n",
      " [0 0 0 0]\n",
      " [0 0 0 6]\n",
      " [0 0 0 0]]\n",
      "\n",
      "\n",
      "PREDICTION\n",
      "[[0 0 0 0]\n",
      " [8 0 0 0]\n",
      " [5 0 0 0]\n",
      " [0 0 0 0]]\n",
      "LABEL\n",
      "[[0 0 0 0]\n",
      " [4 0 0 0]\n",
      " [5 0 0 0]\n",
      " [0 0 0 0]]\n",
      "\n",
      "\n"
     ]
    }
   ],
   "source": [
    "# compare with your eyes bijjjj\n",
    "\n",
    "def display(pred,label,i):\n",
    "    mask = np.argmax(pred[i], axis=-1)\n",
    "    print(\"PREDICTION\")\n",
    "    print(mask)\n",
    "    print(\"LABEL\")\n",
    "    print(label[i].reshape(label[i].shape[0],label[i].shape[1]))\n",
    "    print(\"\\n\")\n",
    "    \n",
    "for i in range(500,510):\n",
    "    display(train_preds,label,i)\n",
    "\n",
    "\n"
   ]
  },
  {
   "cell_type": "code",
   "execution_count": 30,
   "metadata": {},
   "outputs": [
    {
     "name": "stdout",
     "output_type": "stream",
     "text": [
      "[[0 0 0 0]\n",
      " [0 0 0 0]\n",
      " [0 0 8 0]\n",
      " [0 0 0 0]]\n",
      "\n",
      "\n",
      "[[ 0  0  0  0]\n",
      " [ 0 10 10  0]\n",
      " [ 0  0  8  0]\n",
      " [ 0  0  0  0]]\n"
     ]
    }
   ],
   "source": [
    "\n",
    "img_size = (4, 4)\n",
    "num_classes = 11\n",
    "batch_size = 16\n",
    "\n",
    "a = np.array([[[0, 0, 0, 0],\n",
    "               [0, 0, 0, 0],\n",
    "               [0, 0, 1, 0],\n",
    "               [0, 0, 0, 0]],\n",
    "              [[0, 0, 1, 0],\n",
    "               [1, 1, 1, 1],\n",
    "               [0, 0, 1, 0],\n",
    "               [0, 0, 1, 0]]])\n",
    "\n",
    "b = np.array([[[0, 0, 0, 0],\n",
    "               [0, 4, 7, 0],\n",
    "               [0, 5, 6, 0],\n",
    "               [0, 0, 0, 0]],\n",
    "              [[0, 0, 8, 0],\n",
    "               [3, 4, 7, 9],\n",
    "               [0, 0, 6, 0],\n",
    "               [0, 0, 5, 0]]])\n",
    "\n",
    "a = np.reshape(a,(a.shape[0],a.shape[1],a.shape[2],1))\n",
    "b = np.reshape(b,(b.shape[0],b.shape[1],b.shape[2],1))\n",
    "\n",
    "test_gen = JubeatDataset(2,img_size,a,b)\n",
    "\n",
    "test = model.predict(test_gen)\n",
    "\n",
    "testmask = np.argmax(test[0], axis=-1)\n",
    "\n",
    "testmask1 = np.argmax(test[1], axis=-1)\n",
    "\n",
    "print(testmask)\n",
    "\n",
    "print(\"\\n\")\n",
    "print(testmask1)"
   ]
  },
  {
   "cell_type": "code",
   "execution_count": 31,
   "metadata": {},
   "outputs": [
    {
     "name": "stdout",
     "output_type": "stream",
     "text": [
      "706 706\n"
     ]
    },
    {
     "data": {
      "text/plain": [
       "706"
      ]
     },
     "execution_count": 31,
     "metadata": {},
     "output_type": "execute_result"
    }
   ],
   "source": [
    "data_files = os.listdir(TRAIN_DIR_DATA)[:1]         \n",
    "data,label = get_data(data_files)\n",
    "\n",
    "print(len(data),len(label))\n",
    "\n",
    "test1_gen = JubeatDataset(1,img_size,data,label)\n",
    "test1 = model.predict(test1_gen)\n",
    "\n",
    "finger_array = []\n",
    "for array in test1: \n",
    "    finger_array.append(np.argmax(array, axis=-1))\n",
    "    \n",
    "len(finger_array)\n",
    "    \n"
   ]
  },
  {
   "cell_type": "code",
   "execution_count": 32,
   "metadata": {},
   "outputs": [],
   "source": [
    "from jubeatnet.core import PatternFingering, Pattern, JubeatChartFingering\n",
    "from jubeatnet.parsers import CosmosMemoParser\n",
    "from pathlib import Path\n",
    "\n",
    "memo = Path(MEMO_DIR + data_files[0].lower().replace(\" \",\"_\").replace(\"npy\",\"txt\"))\n",
    "parser = CosmosMemoParser()\n",
    "chart = parser.parse(memo)\n",
    "sequence = JubeatChartFingering(chart,\"red zone\",None)\n",
    "\n",
    "for idx in range(len(finger_array)):\n",
    "    pattern = chart.sequence[idx][1]\n",
    "    index = chart.sequence[idx][0]\n",
    "    fingering = PatternFingering(pattern)\n",
    "    fingering.set_finger_matrix(finger_array[idx])\n",
    "    sequence.set_pattern_fingering(idx,fingering)\n",
    "    \n",
    "jsonstring = sequence.to_json_string()\n",
    "with open(\"red_zone1.json\",\"w\") as f:\n",
    "    f.write(jsonstring)"
   ]
  },
  {
   "cell_type": "code",
   "execution_count": 39,
   "metadata": {},
   "outputs": [
    {
     "data": {
      "text/plain": [
       "0.11686152951735616"
      ]
     },
     "execution_count": 39,
     "metadata": {},
     "output_type": "execute_result"
    }
   ],
   "source": [
    "from sklearn.metrics import jaccard_score\n",
    "true = label.flatten().astype(float)\n",
    "finger_array = np.array(finger_array)\n",
    "pred = finger_array.flatten()\n",
    "# print(label[0])\n",
    "jaccard_score(true,pred,average='macro')\n",
    "\n"
   ]
  },
  {
   "cell_type": "code",
   "execution_count": 21,
   "metadata": {
    "scrolled": true
   },
   "outputs": [
    {
     "ename": "NameError",
     "evalue": "name 'finger_array' is not defined",
     "output_type": "error",
     "traceback": [
      "\u001b[0;31m---------------------------------------------------------------------------\u001b[0m",
      "\u001b[0;31mNameError\u001b[0m                                 Traceback (most recent call last)",
      "\u001b[0;32m<ipython-input-21-93281206224d>\u001b[0m in \u001b[0;36m<module>\u001b[0;34m\u001b[0m\n\u001b[1;32m     31\u001b[0m     \u001b[0;32mreturn\u001b[0m \u001b[0mcost\u001b[0m\u001b[0;34m\u001b[0m\u001b[0;34m\u001b[0m\u001b[0m\n\u001b[1;32m     32\u001b[0m \u001b[0;34m\u001b[0m\u001b[0m\n\u001b[0;32m---> 33\u001b[0;31m \u001b[0mget_traversal_cost\u001b[0m\u001b[0;34m(\u001b[0m\u001b[0mfinger_array\u001b[0m\u001b[0;34m)\u001b[0m\u001b[0;34m\u001b[0m\u001b[0;34m\u001b[0m\u001b[0m\n\u001b[0m\u001b[1;32m     34\u001b[0m \u001b[0;34m\u001b[0m\u001b[0m\n",
      "\u001b[0;31mNameError\u001b[0m: name 'finger_array' is not defined"
     ]
    }
   ],
   "source": [
    "def get_traversal_cost(pred):\n",
    "    centroids = []\n",
    "    values = []\n",
    "    # Find centroids and save values for each finger\n",
    "    for i in range(1,11):\n",
    "        value = np.array([])\n",
    "        for j in pred: \n",
    "            pos = np.array(np.where(j == i)).transpose()\n",
    "            if len(value)==0:\n",
    "                value = pos\n",
    "            else:                 \n",
    "                value = np.concatenate((value,pos))\n",
    "        if len(value) >0:\n",
    "            value = np.array(value)\n",
    "            x_coords = [p[0] for p in value]\n",
    "            y_coords = [p[1] for p in value]\n",
    "            _len = len(x_coords)\n",
    "            centroid_x = sum(x_coords)/_len\n",
    "            centroid_y = sum(y_coords)/_len\n",
    "            centroids.append([centroid_x,centroid_y])\n",
    "            values.append([x_coords,y_coords])\n",
    "    size = len(values[0])\n",
    "    cost = 0\n",
    "    for centroid,value in zip(centroids,values):\n",
    "        x_coords = value[0]\n",
    "        y_coords = value[1]\n",
    "        x = sum([(i-centroid[0])**2 for i in x_coords])\n",
    "        y = sum([(j-centroid[1])**2 for j in y_coords])\n",
    "        avg = (x+y)/size\n",
    "        cost += avg\n",
    "    return cost\n",
    "\n",
    "get_traversal_cost(finger_array)\n",
    "        "
   ]
  },
  {
   "cell_type": "code",
   "execution_count": 10,
   "metadata": {},
   "outputs": [
    {
     "ename": "NameError",
     "evalue": "name 'finger_array' is not defined",
     "output_type": "error",
     "traceback": [
      "\u001b[0;31m---------------------------------------------------------------------------\u001b[0m",
      "\u001b[0;31mNameError\u001b[0m                                 Traceback (most recent call last)",
      "\u001b[0;32m<ipython-input-10-d45bda2058fd>\u001b[0m in \u001b[0;36m<module>\u001b[0;34m\u001b[0m\n\u001b[1;32m     95\u001b[0m     \u001b[0;32mreturn\u001b[0m \u001b[0mfinger_dict\u001b[0m\u001b[0;34m\u001b[0m\u001b[0;34m\u001b[0m\u001b[0m\n\u001b[1;32m     96\u001b[0m \u001b[0;34m\u001b[0m\u001b[0m\n\u001b[0;32m---> 97\u001b[0;31m \u001b[0mpredictions\u001b[0m \u001b[0;34m=\u001b[0m \u001b[0mnp\u001b[0m\u001b[0;34m.\u001b[0m\u001b[0marray\u001b[0m\u001b[0;34m(\u001b[0m\u001b[0mfinger_array\u001b[0m\u001b[0;34m)\u001b[0m\u001b[0;34m\u001b[0m\u001b[0;34m\u001b[0m\u001b[0m\n\u001b[0m\u001b[1;32m     98\u001b[0m \u001b[0mpredictions\u001b[0m \u001b[0;34m=\u001b[0m \u001b[0mnp\u001b[0m\u001b[0;34m.\u001b[0m\u001b[0mreshape\u001b[0m\u001b[0;34m(\u001b[0m\u001b[0mfinger_array\u001b[0m\u001b[0;34m,\u001b[0m\u001b[0;34m(\u001b[0m\u001b[0mfinger_array\u001b[0m\u001b[0;34m.\u001b[0m\u001b[0mshape\u001b[0m\u001b[0;34m[\u001b[0m\u001b[0;36m0\u001b[0m\u001b[0;34m]\u001b[0m\u001b[0;34m,\u001b[0m\u001b[0mfinger_array\u001b[0m\u001b[0;34m.\u001b[0m\u001b[0mshape\u001b[0m\u001b[0;34m[\u001b[0m\u001b[0;36m1\u001b[0m\u001b[0;34m]\u001b[0m\u001b[0;34m,\u001b[0m\u001b[0mfinger_array\u001b[0m\u001b[0;34m.\u001b[0m\u001b[0mshape\u001b[0m\u001b[0;34m[\u001b[0m\u001b[0;36m2\u001b[0m\u001b[0;34m]\u001b[0m\u001b[0;34m,\u001b[0m\u001b[0;36m1\u001b[0m\u001b[0;34m)\u001b[0m\u001b[0;34m)\u001b[0m\u001b[0;34m\u001b[0m\u001b[0;34m\u001b[0m\u001b[0m\n\u001b[1;32m     99\u001b[0m \u001b[0;34m\u001b[0m\u001b[0m\n",
      "\u001b[0;31mNameError\u001b[0m: name 'finger_array' is not defined"
     ]
    }
   ],
   "source": [
    "#Obtain fingering predictions and labels for beat i\n",
    "def getbeatmap(pred,label,i):\n",
    "    prediction = np.argmax(pred[i], axis=-1)\n",
    "    labels = label[i].reshape(label[i].shape[0],label[i].shape[1])\n",
    "    return (prediction, labels)\n",
    "    \n",
    "    \n",
    "def F1Score(pred,label):\n",
    "    predictedfingercount = 0\n",
    "    goldlabelfingercount = 0\n",
    "    correctlypredictedcount = 0\n",
    "    wronglypredictedcount = 0\n",
    "    for i in range(label.shape[0]):\n",
    "        prediction, labels = getbeatmap(pred,label,i)\n",
    "#         print(\"Beatmap No.\", i)\n",
    "#         print(\"PREDICTION\")\n",
    "#         print(prediction)\n",
    "#         print(\"LABEL\")\n",
    "#         print(labels)\n",
    "        for row in range(4):\n",
    "            for col in range(4):\n",
    "                if labels[row][col] == 0:\n",
    "                    if prediction[row][col] != 0:\n",
    "                        predictedfingercount+=1\n",
    "                        wronglypredictedcount+=1\n",
    "                elif labels[row][col] == prediction[row][col]:\n",
    "                    predictedfingercount+=1\n",
    "                    goldlabelfingercount+=1\n",
    "                    correctlypredictedcount+=1\n",
    "                else:\n",
    "                    if prediction[row][col] != 0:\n",
    "                        predictedfingercount+=1\n",
    "                        goldlabelfingercount+=1\n",
    "                        wronglypredictedcount+=1\n",
    "                    else:\n",
    "                        goldlabelfingercount+=1\n",
    "                        \n",
    "                    \n",
    "    precision =  correctlypredictedcount/predictedfingercount\n",
    "    recall = correctlypredictedcount/goldlabelfingercount\n",
    "    f1score = 2/((1/precision)+(1/recall))\n",
    "    return f1score, precision, recall\n",
    "                \n",
    "def leftrightscorePred(data):\n",
    "    lefthandcount = 0\n",
    "    righthandcount = 0\n",
    "    for i in range(data.shape[0]):\n",
    "        #print(data.shape[0])\n",
    "        beatmapdata = np.argmax(data[i], axis=-1)\n",
    "        for row in range(4):\n",
    "            for col in range(4):\n",
    "                if beatmapdata[row][col] >= 1 and beatmapdata[row][col] <= 5:\n",
    "                    lefthandcount += 1\n",
    "                elif beatmapdata[row][col] >= 6 and beatmapdata[row][col] <= 10:\n",
    "                    righthandcount += 1\n",
    "    return (lefthandcount, righthandcount)\n",
    "\n",
    "\n",
    "def leftrightscoreLabel(label):\n",
    "    lefthandcount = 0\n",
    "    righthandcount = 0\n",
    "    for i in range(label.shape[0]):\n",
    "        #print(label.shape[0])\n",
    "        beatmapdata = label[i].reshape(label[i].shape[0],label[i].shape[1])\n",
    "        for row in range(4):\n",
    "            for col in range(4):\n",
    "#                 if beatmapdata[row][col] != 0:\n",
    "#                     print(beatmapdata[row][col])\n",
    "                if beatmapdata[row][col] >= 1 and beatmapdata[row][col] <= 5:\n",
    "                    lefthandcount += 1\n",
    "                elif beatmapdata[row][col] >= 6 and beatmapdata[row][col] <= 10:\n",
    "                    righthandcount += 1\n",
    "    return (lefthandcount, righthandcount)\n",
    "\n",
    "def fingerCountPred(data):\n",
    "    finger_dict = {1:0,2:0,3:0,4:0,5:0,6:0,7:0,8:0,9:0,10:0}\n",
    "    for i in range(data.shape[0]):\n",
    "        #print(data.shape[0])\n",
    "        beatmapdata = np.argmax(data[i], axis=-1)\n",
    "        for row in range(4):\n",
    "            for col in range(4):\n",
    "                if beatmapdata[row][col] != 0:\n",
    "                    finger_dict[beatmapdata[row][col]] += 1\n",
    "    return finger_dict\n",
    "\n",
    "def fingerCountLabel(label):\n",
    "    finger_dict = {1:0,2:0,3:0,4:0,5:0,6:0,7:0,8:0,9:0,10:0}\n",
    "    for i in range(label.shape[0]):\n",
    "        #print(data.shape[0])\n",
    "        beatmapdata = label[i].reshape(label[i].shape[0],label[i].shape[1])\n",
    "        for row in range(4):\n",
    "            for col in range(4):\n",
    "                if beatmapdata[row][col] != 0:\n",
    "                    finger_dict[beatmapdata[row][col]] += 1\n",
    "    return finger_dict\n",
    "                \n",
    "predictions = np.array(finger_array)\n",
    "predictions = np.reshape(finger_array,(finger_array.shape[0],finger_array.shape[1],finger_array.shape[2],1))\n",
    "    \n",
    "# f1score, precision, recall = F1Score(predictions,label)\n",
    "finger_dict_pred = fingerCountLabel(predictions)\n",
    "finger_dict_label = fingerCountLabel(label)\n",
    "\n",
    "print(f'F1 Score: {f1score}, Precision: {precision}, Recall: {recall}')\n",
    "print(f'Finger Count for Prediction: {finger_dict_pred}')\n",
    "print(f'Finger Count for Label: {finger_dict_label}')"
   ]
  },
  {
   "cell_type": "code",
   "execution_count": null,
   "metadata": {},
   "outputs": [],
   "source": []
  }
 ],
 "metadata": {
  "kernelspec": {
   "display_name": "Python 3",
   "language": "python",
   "name": "python3"
  },
  "language_info": {
   "codemirror_mode": {
    "name": "ipython",
    "version": 3
   },
   "file_extension": ".py",
   "mimetype": "text/x-python",
   "name": "python",
   "nbconvert_exporter": "python",
   "pygments_lexer": "ipython3",
   "version": "3.7.9"
  }
 },
 "nbformat": 4,
 "nbformat_minor": 4
}
