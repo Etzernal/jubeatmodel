{
 "cells": [
  {
   "cell_type": "code",
   "execution_count": 1,
   "metadata": {},
   "outputs": [],
   "source": [
    "import numpy as np\n",
    "from tensorflow import keras\n",
    "from tensorflow.keras.layers import *\n",
    "from tensorflow.keras.preprocessing.image import load_img\n",
    "import os\n",
    "from tensorflow.keras.callbacks import *\n",
    "import pandas as pd\n",
    "import copy \n",
    "from tqdm import tqdm\n",
    "import matplotlib.pyplot as plt"
   ]
  },
  {
   "cell_type": "code",
   "execution_count": 2,
   "metadata": {},
   "outputs": [],
   "source": [
    "TRAIN_DIR_DATA = \"./train/data/\"\n",
    "TRAIN_DIR_LABEL = \"./train/label/\"\n",
    "VAL_DIR_DATA = \"./test/data/\"\n",
    "VAL_DIR_LABEL = \"./test/label/\"\n",
    "\n",
    "MEMO_DIR = \"./memo/\""
   ]
  },
  {
   "cell_type": "code",
   "execution_count": 3,
   "metadata": {},
   "outputs": [],
   "source": [
    "def get_data(data_dir):\n",
    "    data_files = os.listdir(data_dir)\n",
    "    data = []\n",
    "    label = []\n",
    "    for dfile in data_files:\n",
    "        data.append(np.load(TRAIN_DIR_DATA + dfile))\n",
    "        label.append(np.load(TRAIN_DIR_LABEL + dfile.split(\".\")[0] + \" label.npy\"))\n",
    "    return data,label\n",
    "            \n",
    "# data,label = get_data(TRAIN_DIR_DATA)"
   ]
  },
  {
   "cell_type": "code",
   "execution_count": 4,
   "metadata": {
    "scrolled": true
   },
   "outputs": [],
   "source": [
    "def pre_process(data,label):\n",
    "    files_pos = []\n",
    "    files_fingers = []\n",
    "    for l in label: \n",
    "        grid_pos = []\n",
    "        beat_fingers = []\n",
    "        for j in range(len(l)):\n",
    "            pos = np.array(np.where(l[j]>0)).transpose()\n",
    "            grid_pos.append(pos)\n",
    "            beat_fingers.append([l[j][i[0]][i[1]] for i in pos])\n",
    "        files_pos.append(grid_pos)\n",
    "        files_fingers.append(beat_fingers)\n",
    "    return files_pos, files_fingers\n",
    "\n",
    "# files_pos,files_fingers = pre_process(data,label)"
   ]
  },
  {
   "cell_type": "markdown",
   "metadata": {},
   "source": [
    "# EMISSION"
   ]
  },
  {
   "cell_type": "code",
   "execution_count": 5,
   "metadata": {
    "scrolled": true
   },
   "outputs": [],
   "source": [
    "def get_eprobs(val,finger,fingers):\n",
    "    return val/fingers.count(finger)\n",
    "\n",
    "\n",
    "def get_emission(files_pos,files_fingers):\n",
    "    pos_int = None\n",
    "    fingers_int = None\n",
    "    for i in range(len(files_pos)): \n",
    "        if i == 0: \n",
    "            pos_int = files_pos[i]\n",
    "            fingers_int = files_fingers[i]\n",
    "        else: \n",
    "            pos_int += files_pos[i] \n",
    "            fingers_int += files_fingers[i]\n",
    "\n",
    "    pos = []\n",
    "    list(map(pos.extend, pos_int))\n",
    "    fingers = [] \n",
    "    list(map(fingers.extend, fingers_int))\n",
    "    pos = [tuple(i) for i in pos]\n",
    "\n",
    "    emission_df = pd.DataFrame()\n",
    "    emission_df[\"pos\"] = pos\n",
    "    emission_df[\"fingers\"] = fingers\n",
    "\n",
    "    df = emission_df.groupby(['pos', 'fingers']).size().reset_index()\n",
    "    df.columns = [\"pos\",\"fingers\",\"count\"] \n",
    "\n",
    "\n",
    "    df[\"e\"] = df.apply(lambda x: get_eprobs(x['count'],x['fingers'],fingers),axis=1)\n",
    "    df = df.drop(columns = [\"count\"])\n",
    "    \n",
    "    return df\n",
    "\n",
    "# e_df = get_emission(files_pos,files_fingers)\n",
    "# e_df"
   ]
  },
  {
   "cell_type": "markdown",
   "metadata": {},
   "source": [
    "# TRANSMISSION"
   ]
  },
  {
   "cell_type": "code",
   "execution_count": 6,
   "metadata": {
    "scrolled": true
   },
   "outputs": [],
   "source": [
    "def get_tprobs(val,finger,new_prev_finger):\n",
    "    return val/np.count_nonzero(new_prev_finger.flatten() == 1)\n",
    "\n",
    "def get_transition(files_pos,files_fingers):\n",
    "    post_file_finger = []\n",
    "    transmission_df = pd.DataFrame()\n",
    "\n",
    "    prev_finger = []\n",
    "    curr_finger = []\n",
    "    for i in range(len(files_pos)): \n",
    "        prev_finger_temp = files_fingers[i][0:len(files_fingers[i])-1]\n",
    "        curr_finger_temp = files_fingers[i][1:len(files_fingers[i])]\n",
    "        prev_finger += prev_finger_temp\n",
    "        curr_finger += curr_finger_temp\n",
    "        \n",
    "    prev_finger = [tuple(sorted(i)) for i in prev_finger]\n",
    "    curr_finger = [tuple(sorted(i)) for i in curr_finger]\n",
    "\n",
    "    new_prev_finger = []\n",
    "    new_curr_finger = []\n",
    "\n",
    "    for tuplei,tuplej in zip(prev_finger,curr_finger): \n",
    "        for val1 in tuplei: \n",
    "            for val2 in tuplej:\n",
    "                new_prev_finger.append(val1)\n",
    "                new_curr_finger.append(val2)\n",
    "\n",
    "    new_prev_finger = np.array(new_prev_finger)\n",
    "    new_curr_finger = np.array(new_curr_finger)\n",
    "\n",
    "    transmission_df[\"prev_finger\"] = new_prev_finger\n",
    "    transmission_df[\"curr_finger\"] = new_curr_finger\n",
    "    transmission_df\n",
    "    df1 = transmission_df.groupby(['prev_finger', 'curr_finger']).size().reset_index()\n",
    "    df1 = df1[df1[\"prev_finger\"] != () ]\n",
    "    df1 = df1[df1[\"curr_finger\"] != () ]\n",
    "    # df1\n",
    "\n",
    "    df1.columns = [\"prev_finger\", \"curr_finger\", \"count\"]\n",
    "    df1\n",
    "    df1[\"t\"] = df1.apply(lambda x: get_tprobs(x['count'],x['prev_finger'],new_prev_finger),axis=1)\n",
    "    df1 = df1.drop(columns = [\"count\"])\n",
    "    return df1\n",
    "\n",
    "# t_df = get_transition(files_pos,files_fingers)\n",
    "# t_df"
   ]
  },
  {
   "cell_type": "markdown",
   "metadata": {},
   "source": [
    "# Convert emission to table"
   ]
  },
  {
   "cell_type": "code",
   "execution_count": 7,
   "metadata": {},
   "outputs": [],
   "source": [
    "def emission_to_table(df):\n",
    "    row_e = df[\"pos\"].values\n",
    "    column_e = df[\"fingers\"].values\n",
    "    y_e = list(np.unique(row_e))\n",
    "    x_e = list(np.unique(column_e))\n",
    "    # Init empty array \n",
    "    e_array = np.zeros((len(y_e),len(x_e)))\n",
    "\n",
    "    # Fill up \n",
    "    for i in range(len(df)):\n",
    "        row_idx = y_e.index(df.iloc[i][\"pos\"])\n",
    "        column_idx = x_e.index(df.iloc[i][\"fingers\"])\n",
    "        e_array[row_idx][column_idx] = df.iloc[i][\"e\"]\n",
    "\n",
    "    return e_array, y_e, x_e\n",
    "\n",
    "# e_array, y_e, x_e = emission_to_table(e_df)\n",
    "# e_array"
   ]
  },
  {
   "cell_type": "markdown",
   "metadata": {},
   "source": [
    "# Convert transition to table"
   ]
  },
  {
   "cell_type": "code",
   "execution_count": 8,
   "metadata": {},
   "outputs": [],
   "source": [
    "def transition_to_table(df1): \n",
    "    row_t = df1[\"prev_finger\"].values\n",
    "    column_t = df1[\"curr_finger\"].values\n",
    "    y_t = list(np.unique(row_t))\n",
    "    x_t = list(np.unique(column_t))\n",
    "\n",
    "    # Init empty array\n",
    "    t_array = np.zeros((len(y_t),len(x_t)))\n",
    "\n",
    "    # Fill up \n",
    "    for i in range(len(df1)):\n",
    "        row_idx = y_t.index(df1.iloc[i][\"prev_finger\"])\n",
    "        column_idx = x_t.index(df1.iloc[i][\"curr_finger\"])\n",
    "        t_array[row_idx][column_idx] = df1.iloc[i][\"t\"]\n",
    "    return t_array,y_t,x_t\n",
    "    \n",
    "# t_array,y_t,x_t = transition_to_table(t_df)\n",
    "# t_array"
   ]
  },
  {
   "cell_type": "markdown",
   "metadata": {},
   "source": [
    "# Training"
   ]
  },
  {
   "cell_type": "code",
   "execution_count": 9,
   "metadata": {},
   "outputs": [],
   "source": [
    "def reconstruct_grid(grids,fingers):\n",
    "    finger_grid = np.zeros((4,4))\n",
    "    for i,j in zip(grids,fingers):\n",
    "        if j == None:\n",
    "            finger_grid[i[0]][i[1]] = 0\n",
    "        else: \n",
    "            finger_grid[i[0]][i[1]] = j\n",
    "    return finger_grid\n",
    "    \n",
    "# reconstruct_grid(grids,chosen_fingers)"
   ]
  },
  {
   "cell_type": "code",
   "execution_count": 10,
   "metadata": {},
   "outputs": [],
   "source": [
    "def train(data,label):\n",
    "    files_pos,files_fingers = pre_process(data,label)\n",
    "    e_df = get_emission(files_pos,files_fingers)\n",
    "    t_df = get_transition(files_pos,files_fingers)\n",
    "    e_array, y_e, x_e = emission_to_table(e_df)\n",
    "    t_array,y_t,x_t = transition_to_table(t_df)\n",
    "    return e_array, y_e, x_e, t_array, y_t, x_t\n",
    "    \n",
    "train_data,train_label = get_data(TRAIN_DIR_DATA)\n",
    "e_array, y_e, x_e, t_array, y_t, x_t = train(train_data,train_label)"
   ]
  },
  {
   "cell_type": "markdown",
   "metadata": {},
   "source": [
    "# Inference"
   ]
  },
  {
   "cell_type": "code",
   "execution_count": 11,
   "metadata": {
    "scrolled": true
   },
   "outputs": [],
   "source": [
    "# predict_one takes in grid position(s) that exist in that current beat, and previous fingers\n",
    "# list to store chosen fingers this round.\n",
    "# for each position: \n",
    "#     1a) if prev state is available, then predict what is the most likely fingers. \n",
    "#          choose the finger with highest probability based on grid pos and not in list \n",
    "#     1b) else (prev state not available/no such transition)\n",
    "#          choose finger with highest probability based on grid pos and not in list\n",
    "# return chosen fingers in order.\n",
    "\n",
    "def predict_one(grid_pos_list, prev_finger, e_array, y_e, x_e, t_array, y_t, x_t):\n",
    "    chosen_fingers = []\n",
    "    y_e = np.array(y_e)\n",
    "    x_e = np.array(x_e)\n",
    "    y_t = np.array(y_t)\n",
    "    x_t = np.array(x_t)\n",
    "    \n",
    "    for grid_pos in grid_pos_list: \n",
    "        chosen_finger = None\n",
    "        scores = [1 for i in range(10)]\n",
    "\n",
    "        if prev_finger != None:\n",
    "            # Get transition probabilities\n",
    "            for finger in prev_finger: \n",
    "                for i in range(10):\n",
    "                    try: \n",
    "                        y = np.where(np.array(y_t) == finger)[0][0]\n",
    "                        x = np.where(np.array(x_t) == i+1)[0][0]\n",
    "                        t = t_array[y][x]\n",
    "                        scores[i] *= t\n",
    "                    except: \n",
    "#                         print(\"No transition found\")\n",
    "                        scores[i] *= 0.001\n",
    "        # Get emission probabilities\n",
    "        for i in range(10):\n",
    "            try: \n",
    "                y = np.where(np.array(y_e) == grid_pos)[0][0]\n",
    "                x = np.where(np.array(x_t) == i+1)[0][0]\n",
    "                e = e_array[y][x]\n",
    "                scores[i] *= e\n",
    "            except: \n",
    "#                 print(\"No emission\")\n",
    "                scores[i] *= 0.001\n",
    "#         print(scores)\n",
    "        scores_copy = sorted(copy.deepcopy(scores))\n",
    "        idxes = [scores.index(i)+1 for i in scores_copy]\n",
    "        for chosen in idxes:\n",
    "            if chosen not in chosen_fingers: \n",
    "                chosen_finger = copy.deepcopy(chosen) \n",
    "        chosen_fingers.append(chosen_finger)\n",
    "    return chosen_fingers\n",
    "\n",
    "# import time \n",
    "\n",
    "# start = time.time()\n",
    "# grids = [(1,0),(0,1)]\n",
    "# chosen_fingers = predict_one([(1,0),(0,1)],None,e_array, y_e, x_e, t_array, y_t, x_t)\n",
    "# end = time.time() \n",
    "# print(end-start)\n",
    "# print(chosen_fingers)\n",
    "\n",
    "\n"
   ]
  },
  {
   "cell_type": "code",
   "execution_count": 12,
   "metadata": {},
   "outputs": [],
   "source": [
    "# predict, predicts sequence. take in a list of beats - grid positions. \n",
    "# list to store chosen fingers\n",
    "# init prev_fingers = \n",
    "# for each beat: \n",
    "#    fingers = predict_one(beat, prev_fingers) \n",
    "#    prev_fingers = copy of fingers\n",
    "#    append fingers to list of chosen fingers \n",
    "# reconstruct sequence into 2d array \n",
    "# return sequence \n",
    "\n",
    "def predict(grids_sequence,e_array, y_e, x_e, t_array, y_t, x_t): \n",
    "    prev_fingers = None\n",
    "    finger_sequence = []\n",
    "    \n",
    "    for beat in tqdm(grids_sequence):\n",
    "        curr_fingers = predict_one(beat,prev_fingers,e_array, y_e, x_e, t_array, y_t, x_t)\n",
    "        prev_fingers = copy.deepcopy(curr_fingers)\n",
    "        finger_sequence.append(curr_fingers)\n",
    "    \n",
    "    finger_array = []\n",
    "    for pos,finger in zip(grids_sequence, finger_sequence):\n",
    "        finger_array.append(reconstruct_grid(pos,finger))\n",
    "    \n",
    "    return finger_array"
   ]
  },
  {
   "cell_type": "code",
   "execution_count": 13,
   "metadata": {},
   "outputs": [],
   "source": [
    "def deconstruct_grid(grid_arrays):\n",
    "    grid_pos = []\n",
    "    for l in range(len(grid_arrays)): \n",
    "        pos = np.array(np.where(grid_arrays[l]>0)).transpose()\n",
    "    #     print(pos)\n",
    "    #     print(l)\n",
    "        grid_pos.append(pos)\n",
    "    return grid_pos"
   ]
  },
  {
   "cell_type": "code",
   "execution_count": 14,
   "metadata": {},
   "outputs": [],
   "source": [
    "# Test from directory \n",
    "\n",
    "def test(TEST_DIR_DATA,e_array, y_e, x_e, t_array, y_t, x_t): \n",
    "    test_data,test_label = get_data(TEST_DIR_DATA)\n",
    "    finger_arrays = []\n",
    "    for test in test_data: \n",
    "        input_array = np.array(deconstruct_grid(data[0]))\n",
    "        finger_array = predict(input_array,e_array, y_e, x_e, t_array, y_t, x_t)\n",
    "        finger_arrays.append(finger_array)\n",
    "    return finger_arrays"
   ]
  },
  {
   "cell_type": "code",
   "execution_count": 15,
   "metadata": {},
   "outputs": [
    {
     "name": "stderr",
     "output_type": "stream",
     "text": [
      "/home/eternal/.local/lib/python3.7/site-packages/ipykernel_launcher.py:2: VisibleDeprecationWarning: Creating an ndarray from ragged nested sequences (which is a list-or-tuple of lists-or-tuples-or ndarrays with different lengths or shapes) is deprecated. If you meant to do this, you must specify 'dtype=object' when creating the ndarray\n",
      "  \n",
      "100%|██████████| 706/706 [00:00<00:00, 3451.77it/s]\n"
     ]
    }
   ],
   "source": [
    "# finger_array is the predicted output\n",
    "test = np.array(deconstruct_grid(train_data[0]))\n",
    "finger_array = predict(test,e_array, y_e, x_e, t_array, y_t, x_t)\n",
    "finger_array = np.array(finger_array)"
   ]
  },
  {
   "cell_type": "code",
   "execution_count": 16,
   "metadata": {},
   "outputs": [
    {
     "name": "stderr",
     "output_type": "stream",
     "text": [
      "100%|██████████| 1/1 [00:00<00:00, 1945.41it/s]\n",
      "100%|██████████| 1/1 [00:00<00:00, 856.68it/s]"
     ]
    },
    {
     "name": "stdout",
     "output_type": "stream",
     "text": [
      "[[0 0 0 0]\n",
      " [0 0 0 0]\n",
      " [0 0 8 0]\n",
      " [0 0 0 0]]\n",
      "\n",
      "\n",
      "[[ 0  0  1  0]\n",
      " [ 4  3  8 10]\n",
      " [ 0  0  7  0]\n",
      " [ 0  0  9  0]]\n"
     ]
    },
    {
     "name": "stderr",
     "output_type": "stream",
     "text": [
      "\n"
     ]
    }
   ],
   "source": [
    "# Custom input test\n",
    "a = np.array([[[0, 0, 0, 0],\n",
    "               [0, 0, 0, 0],\n",
    "               [0, 0, 1, 0],\n",
    "               [0, 0, 0, 0]],\n",
    "              [[0, 0, 1, 0],\n",
    "               [1, 1, 1, 1],\n",
    "               [0, 0, 1, 0],\n",
    "               [0, 0, 1, 0]]])\n",
    "\n",
    "b = np.array([[[0, 0, 0, 0],\n",
    "               [0, 0, 0, 0],\n",
    "               [0, 0, 6, 0],\n",
    "               [0, 0, 0, 0]],\n",
    "              [[0, 0, 8, 0],\n",
    "               [3, 4, 7, 9],\n",
    "               [0, 0, 6, 0],\n",
    "               [0, 0, 5, 0]]])\n",
    "\n",
    "test1= np.array(deconstruct_grid(a[:1]))\n",
    "test2= np.array(deconstruct_grid(a[1:]))\n",
    "\n",
    "\n",
    "finger_array1 = predict(test1,e_array, y_e, x_e, t_array, y_t, x_t)\n",
    "finger_array1 = np.array(finger_array1)\n",
    "\n",
    "finger_array2 = predict(test2,e_array, y_e, x_e, t_array, y_t, x_t)\n",
    "finger_array2 = np.array(finger_array2)\n",
    "\n",
    "\n",
    "print(finger_array1.astype(int)[0])\n",
    "print(\"\\n\")\n",
    "print(finger_array2.astype(int)[0])"
   ]
  },
  {
   "cell_type": "code",
   "execution_count": 17,
   "metadata": {
    "scrolled": false
   },
   "outputs": [],
   "source": [
    "# Conversion into json for Unity visualisation\n",
    "from jubeatnet.core import PatternFingering, Pattern, JubeatChartFingering\n",
    "from jubeatnet.parsers import CosmosMemoParser\n",
    "from pathlib import Path\n",
    "\n",
    "\n",
    "data_files = os.listdir(TRAIN_DIR_DATA)\n",
    "memo = Path(MEMO_DIR + data_files[0].lower().replace(\" \",\"_\").replace(\"npy\",\"txt\"))\n",
    "parser = CosmosMemoParser()\n",
    "chart = parser.parse(memo)\n",
    "sequence = JubeatChartFingering(chart,\"red zone\",None)\n",
    "\n",
    "for idx in range(len(finger_array)):\n",
    "    pattern = chart.sequence[idx][1]\n",
    "    index = chart.sequence[idx][0]\n",
    "    fingering = PatternFingering(pattern)\n",
    "    fingering.set_finger_matrix(finger_array[idx])\n",
    "    sequence.set_pattern_fingering(idx,fingering)\n",
    "    \n",
    "jsonstring = sequence.to_json_string()\n",
    "with open(\"red_zone.json\",\"w\") as f:\n",
    "    f.write(jsonstring)\n"
   ]
  },
  {
   "cell_type": "code",
   "execution_count": 18,
   "metadata": {},
   "outputs": [
    {
     "data": {
      "text/plain": [
       "0.21354445346972772"
      ]
     },
     "execution_count": 18,
     "metadata": {},
     "output_type": "execute_result"
    }
   ],
   "source": [
    "# Calculates meanIOU\n",
    "\n",
    "from sklearn.metrics import jaccard_score\n",
    "true = train_label[0].flatten().astype(float)\n",
    "pred = finger_array.flatten()\n",
    "jaccard_score(true,pred,average='macro')"
   ]
  },
  {
   "cell_type": "code",
   "execution_count": 19,
   "metadata": {},
   "outputs": [
    {
     "data": {
      "text/plain": [
       "778.7830741370616"
      ]
     },
     "execution_count": 19,
     "metadata": {},
     "output_type": "execute_result"
    }
   ],
   "source": [
    "# Calculates traversal cost\n",
    "def get_traversal_cost(pred):\n",
    "    centroids = []\n",
    "    values = []\n",
    "    # Find centroids and save values for each finger\n",
    "    for i in range(1,11):\n",
    "        value = np.array([])\n",
    "        for j in pred: \n",
    "            pos = np.array(np.where(j == i)).transpose()\n",
    "            if len(value)==0:\n",
    "                value = pos\n",
    "            else:                 \n",
    "                value = np.concatenate((value,pos))\n",
    "        if len(value) >0:\n",
    "            value = np.array(value)\n",
    "            x_coords = [p[0] for p in value]\n",
    "            y_coords = [p[1] for p in value]\n",
    "            _len = len(x_coords)\n",
    "            centroid_x = sum(x_coords)/_len\n",
    "            centroid_y = sum(y_coords)/_len\n",
    "            centroids.append([centroid_x,centroid_y])\n",
    "            values.append([x_coords,y_coords])\n",
    "    size = len(values[0])\n",
    "    cost = 0\n",
    "    for centroid,value in zip(centroids,values):\n",
    "        x_coords = value[0]\n",
    "        y_coords = value[1]\n",
    "        x = sum([(i-centroid[0])**2 for i in x_coords])\n",
    "        y = sum([(j-centroid[1])**2 for j in y_coords])\n",
    "        avg = (x+y)/size\n",
    "        cost += avg\n",
    "    return cost\n",
    "\n",
    "get_traversal_cost(finger_array)"
   ]
  },
  {
   "cell_type": "code",
   "execution_count": 20,
   "metadata": {},
   "outputs": [
    {
     "name": "stdout",
     "output_type": "stream",
     "text": [
      "Finger Count for Prediction: {1: 0, 2: 39, 3: 2, 4: 476, 5: 5, 6: 11, 7: 332, 8: 0, 9: 6, 10: 0}\n",
      "Finger Count for Label: {1: 0, 2: 23, 3: 0, 4: 211, 5: 193, 6: 193, 7: 229, 8: 0, 9: 19, 10: 0}\n"
     ]
    }
   ],
   "source": [
    "# Obtain fingering predictions and labels for beat i\n",
    "def getbeatmap(pred,label,i):\n",
    "    prediction = np.argmax(pred[i], axis=-1)\n",
    "    labels = label[i].reshape(label[i].shape[0],label[i].shape[1])\n",
    "    return (prediction, labels)\n",
    "    \n",
    "    \n",
    "def F1Score(pred,label):\n",
    "    predictedfingercount = 0\n",
    "    goldlabelfingercount = 0\n",
    "    correctlypredictedcount = 0\n",
    "    wronglypredictedcount = 0\n",
    "    for i in range(label.shape[0]):\n",
    "        prediction, labels = getbeatmap(pred,label,i)\n",
    "        for row in range(4):\n",
    "            for col in range(4):\n",
    "                if labels[row][col] == 0:\n",
    "                    if prediction[row][col] != 0:\n",
    "                        predictedfingercount+=1\n",
    "                        wronglypredictedcount+=1\n",
    "                elif labels[row][col] == prediction[row][col]:\n",
    "                    predictedfingercount+=1\n",
    "                    goldlabelfingercount+=1\n",
    "                    correctlypredictedcount+=1\n",
    "                else:\n",
    "                    if prediction[row][col] != 0:\n",
    "                        predictedfingercount+=1\n",
    "                        goldlabelfingercount+=1\n",
    "                        wronglypredictedcount+=1\n",
    "                    else:\n",
    "                        goldlabelfingercount+=1\n",
    "                        \n",
    "                    \n",
    "    precision =  correctlypredictedcount/predictedfingercount\n",
    "    recall = correctlypredictedcount/goldlabelfingercount\n",
    "    f1score = 2/((1/precision)+(1/recall))\n",
    "    return f1score, precision, recall\n",
    "                \n",
    "def leftrightscorePred(data):\n",
    "    lefthandcount = 0\n",
    "    righthandcount = 0\n",
    "    for i in range(data.shape[0]):\n",
    "        #print(data.shape[0])\n",
    "        beatmapdata = np.argmax(data[i], axis=-1)\n",
    "        for row in range(4):\n",
    "            for col in range(4):\n",
    "                if beatmapdata[row][col] >= 1 and beatmapdata[row][col] <= 5:\n",
    "                    lefthandcount += 1\n",
    "                elif beatmapdata[row][col] >= 6 and beatmapdata[row][col] <= 10:\n",
    "                    righthandcount += 1\n",
    "    return (lefthandcount, righthandcount)\n",
    "\n",
    "\n",
    "def leftrightscoreLabel(label):\n",
    "    lefthandcount = 0\n",
    "    righthandcount = 0\n",
    "    for i in range(label.shape[0]):\n",
    "        beatmapdata = label[i].reshape(label[i].shape[0],label[i].shape[1])\n",
    "        for row in range(4):\n",
    "            for col in range(4):\n",
    "                if beatmapdata[row][col] >= 1 and beatmapdata[row][col] <= 5:\n",
    "                    lefthandcount += 1\n",
    "                elif beatmapdata[row][col] >= 6 and beatmapdata[row][col] <= 10:\n",
    "                    righthandcount += 1\n",
    "    return (lefthandcount, righthandcount)\n",
    "\n",
    "def fingerCountPred(data):\n",
    "    finger_dict = {1:0,2:0,3:0,4:0,5:0,6:0,7:0,8:0,9:0,10:0}\n",
    "    for i in range(data.shape[0]):\n",
    "        beatmapdata = np.argmax(data[i], axis=-1)\n",
    "        for row in range(4):\n",
    "            for col in range(4):\n",
    "                if beatmapdata[row][col] != 0:\n",
    "                    finger_dict[beatmapdata[row][col]] += 1\n",
    "    return finger_dict\n",
    "\n",
    "def fingerCountLabel(label):\n",
    "    finger_dict = {1:0,2:0,3:0,4:0,5:0,6:0,7:0,8:0,9:0,10:0}\n",
    "    for i in range(label.shape[0]):\n",
    "        beatmapdata = label[i].reshape(label[i].shape[0],label[i].shape[1])\n",
    "        for row in range(4):\n",
    "            for col in range(4):\n",
    "                if beatmapdata[row][col] != 0:\n",
    "                    finger_dict[beatmapdata[row][col]] += 1\n",
    "    return finger_dict\n",
    "                \n",
    "predictions = np.array(finger_array)\n",
    "predictions = np.reshape(predictions,(predictions.shape[0],predictions.shape[1],predictions.shape[2],1))        \n",
    "    \n",
    "# f1score, precision, recall = F1Score(predictions,train_label[0])\n",
    "finger_dict_pred = fingerCountLabel(predictions)\n",
    "finger_dict_label = fingerCountLabel(train_label[0])\n",
    "\n",
    "# print(f'F1 Score: {f1score}, Precision: {precision}, Recall: {recall}')\n",
    "print(f'Finger Count for Prediction: {finger_dict_pred}')\n",
    "print(f'Finger Count for Label: {finger_dict_label}')"
   ]
  },
  {
   "cell_type": "code",
   "execution_count": 21,
   "metadata": {},
   "outputs": [
    {
     "data": {
      "text/plain": [
       "{1: 0, 2: 39, 3: 2, 4: 476, 5: 5, 6: 11, 7: 332, 8: 0, 9: 6, 10: 0}"
      ]
     },
     "execution_count": 21,
     "metadata": {},
     "output_type": "execute_result"
    }
   ],
   "source": [
    "values = {}\n",
    "for i in range(1,11):\n",
    "    if i not in values: \n",
    "        values[i] = np.count_nonzero(finger_array == i)\n",
    "    else: \n",
    "        values[i] += np.count_nonzero(finger_array == i)\n",
    "values"
   ]
  },
  {
   "cell_type": "code",
   "execution_count": 22,
   "metadata": {},
   "outputs": [
    {
     "data": {
      "image/png": "[encoded data removed]",
      "text/plain": [
       "<Figure size 432x288 with 1 Axes>"
      ]
     },
     "metadata": {
      "needs_background": "light"
     },
     "output_type": "display_data"
    }
   ],
   "source": [
    "# Finger distribution visualization\n",
    "\n",
    "fig, ax = plt.subplots()\n",
    "\n",
    "fingers = [i for i in range(1,11)]\n",
    "\n",
    "bars = ax.bar(\n",
    "    x=np.arange(len(values)),\n",
    "    height=list(values.values()),\n",
    "    tick_label=fingers\n",
    ")\n",
    "plt.rc('font', family='Open Sans')\n",
    "ax.spines['top'].set_visible(False)\n",
    "ax.spines['right'].set_visible(False)\n",
    "ax.spines['left'].set_visible(False)\n",
    "ax.spines['bottom'].set_color('#DDDDDD')\n",
    "ax.set_axisbelow(True)\n",
    "ax.yaxis.grid(True, color='#EEEEEE')\n",
    "\n",
    "fig.tight_layout()\n",
    "ax.set_xlabel('Finger (Encoded)', labelpad=15, color='#333333')\n",
    "ax.set_ylabel('Count in Dataset', labelpad=15, color='#333333')\n",
    "ax.set_title('Distribution of fingers in Dataset', pad=15, color='#333333',\n",
    "             weight='bold')\n",
    "\n",
    "plt.show()"
   ]
  },
  {
   "cell_type": "code",
   "execution_count": null,
   "metadata": {},
   "outputs": [],
   "source": []
  },
  {
   "cell_type": "code",
   "execution_count": null,
   "metadata": {},
   "outputs": [],
   "source": []
  }
 ],
 "metadata": {
  "kernelspec": {
   "display_name": "Python 3",
   "language": "python",
   "name": "python3"
  },
  "language_info": {
   "codemirror_mode": {
    "name": "ipython",
    "version": 3
   },
   "file_extension": ".py",
   "mimetype": "text/x-python",
   "name": "python",
   "nbconvert_exporter": "python",
   "pygments_lexer": "ipython3",
   "version": "3.7.9"
  }
 },
 "nbformat": 4,
 "nbformat_minor": 4
}
