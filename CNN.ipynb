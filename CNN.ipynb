{
 "cells": [
  {
   "cell_type": "code",
   "execution_count": 1,
   "metadata": {},
   "outputs": [
    {
     "name": "stdout",
     "output_type": "stream",
     "text": [
      "CNN.ipynb  logs  test  train\r\n"
     ]
    }
   ],
   "source": [
    "!ls"
   ]
  },
  {
   "cell_type": "code",
   "execution_count": 55,
   "metadata": {},
   "outputs": [],
   "source": [
    "import numpy as np\n",
    "from tensorflow import keras\n",
    "from tensorflow.keras.layers import *\n",
    "from tensorflow.keras.preprocessing.image import load_img\n",
    "import os\n",
    "from tensorflow.keras.callbacks import *\n",
    "from tensorflow.keras.metrics import *"
   ]
  },
  {
   "cell_type": "code",
   "execution_count": 56,
   "metadata": {},
   "outputs": [],
   "source": [
    "# set directories for training data\n",
    "TRAIN_DIR_DATA = \"./train/data/\"\n",
    "TRAIN_DIR_LABEL = \"./train/label/\"\n",
    "VAL_DIR_DATA = \"./test/data/\"\n",
    "VAL_DIR_LABEL = \"./test/label/\"\n",
    "\n",
    "MEMO_DIR = \"./memo/\""
   ]
  },
  {
   "cell_type": "markdown",
   "metadata": {},
   "source": [
    "# DATA"
   ]
  },
  {
   "cell_type": "code",
   "execution_count": 57,
   "metadata": {},
   "outputs": [],
   "source": [
    "\n",
    "def get_data(data_files):\n",
    "\n",
    "    data = None\n",
    "    label = None\n",
    "    for dfile in data_files:\n",
    "        if np.array_equal(data,None): \n",
    "            data = np.load(TRAIN_DIR_DATA + dfile)\n",
    "            label = np.load(TRAIN_DIR_LABEL + dfile.split(\".\")[0] + \" label.npy\")\n",
    "        else: \n",
    "            data = np.concatenate((data,np.load(TRAIN_DIR_DATA + dfile)))\n",
    "            label = np.concatenate((label,np.load(TRAIN_DIR_LABEL + dfile.split(\".\")[0] + \" label.npy\")) )\n",
    "    data = np.reshape(data,(data.shape[0],data.shape[1],data.shape[2],1))\n",
    "    label = np.reshape(label,(label.shape[0],label.shape[1],label.shape[2],1))\n",
    "    return data,label\n",
    "\n",
    "\n",
    "data_files = os.listdir(TRAIN_DIR_DATA)[:2]  \n",
    "data,label = get_data(data_files)\n",
    "# print(data[0])\n",
    "# print(label[0])\n"
   ]
  },
  {
   "cell_type": "code",
   "execution_count": 58,
   "metadata": {},
   "outputs": [],
   "source": [
    "class JubeatDataset(keras.utils.Sequence):\n",
    "    \"\"\"Helper to iterate over the data (as Numpy arrays).\"\"\"\n",
    "\n",
    "    def __init__(self, batch_size, img_size, input_img, target_img):\n",
    "        self.batch_size = batch_size\n",
    "        self.img_size = img_size\n",
    "        self.input_img = input_img\n",
    "        self.target_img = target_img\n",
    "\n",
    "    def __len__(self):\n",
    "        return len(self.target_img) // self.batch_size\n",
    "\n",
    "    def __getitem__(self, idx):\n",
    "        \"\"\"Returns tuple (input, target) correspond to batch #idx.\"\"\"\n",
    "        i = idx * self.batch_size\n",
    "        x = self.input_img[i : i + self.batch_size]\n",
    "        y = self.target_img[i : i + self.batch_size]\n",
    "        return x, y"
   ]
  },
  {
   "cell_type": "markdown",
   "metadata": {},
   "source": [
    "# Model"
   ]
  },
  {
   "cell_type": "code",
   "execution_count": 59,
   "metadata": {},
   "outputs": [],
   "source": [
    "img_size = (4, 4)\n",
    "num_classes = 11\n",
    "batch_size = 8\n",
    "\n",
    "train_gen = JubeatDataset(batch_size,img_size,data,label)"
   ]
  },
  {
   "cell_type": "code",
   "execution_count": 60,
   "metadata": {},
   "outputs": [
    {
     "name": "stdout",
     "output_type": "stream",
     "text": [
      "Model: \"model_4\"\n",
      "__________________________________________________________________________________________________\n",
      "Layer (type)                    Output Shape         Param #     Connected to                     \n",
      "==================================================================================================\n",
      "input_6 (InputLayer)            [(None, 4, 4, 1)]    0                                            \n",
      "__________________________________________________________________________________________________\n",
      "conv2d_42 (Conv2D)              (None, 4, 4, 32)     320         input_6[0][0]                    \n",
      "__________________________________________________________________________________________________\n",
      "dropout_19 (Dropout)            (None, 4, 4, 32)     0           conv2d_42[0][0]                  \n",
      "__________________________________________________________________________________________________\n",
      "conv2d_43 (Conv2D)              (None, 4, 4, 32)     9248        dropout_19[0][0]                 \n",
      "__________________________________________________________________________________________________\n",
      "max_pooling2d_10 (MaxPooling2D) (None, 2, 2, 32)     0           conv2d_43[0][0]                  \n",
      "__________________________________________________________________________________________________\n",
      "conv2d_44 (Conv2D)              (None, 2, 2, 64)     18496       max_pooling2d_10[0][0]           \n",
      "__________________________________________________________________________________________________\n",
      "dropout_20 (Dropout)            (None, 2, 2, 64)     0           conv2d_44[0][0]                  \n",
      "__________________________________________________________________________________________________\n",
      "conv2d_45 (Conv2D)              (None, 2, 2, 64)     36928       dropout_20[0][0]                 \n",
      "__________________________________________________________________________________________________\n",
      "up_sampling2d_8 (UpSampling2D)  (None, 4, 4, 64)     0           conv2d_45[0][0]                  \n",
      "__________________________________________________________________________________________________\n",
      "concatenate_8 (Concatenate)     (None, 4, 4, 96)     0           up_sampling2d_8[0][0]            \n",
      "                                                                 conv2d_43[0][0]                  \n",
      "__________________________________________________________________________________________________\n",
      "conv2d_50 (Conv2D)              (None, 4, 4, 32)     27680       concatenate_8[0][0]              \n",
      "__________________________________________________________________________________________________\n",
      "dropout_23 (Dropout)            (None, 4, 4, 32)     0           conv2d_50[0][0]                  \n",
      "__________________________________________________________________________________________________\n",
      "conv2d_51 (Conv2D)              (None, 4, 4, 32)     9248        dropout_23[0][0]                 \n",
      "__________________________________________________________________________________________________\n",
      "conv2d_52 (Conv2D)              (None, 4, 4, 11)     363         conv2d_51[0][0]                  \n",
      "==================================================================================================\n",
      "Total params: 102,283\n",
      "Trainable params: 102,283\n",
      "Non-trainable params: 0\n",
      "__________________________________________________________________________________________________\n"
     ]
    }
   ],
   "source": [
    "# Define the model here \n",
    "input_height = 4\n",
    "input_width = 4\n",
    "n_classes = 11\n",
    "\n",
    "# Encoder layer \n",
    "img_input = Input(shape=(input_height,input_width,1))\n",
    "\n",
    "conv1 = Conv2D(32, (3, 3), activation='relu', padding='same')(img_input)\n",
    "conv1 = Dropout(0.2)(conv1)\n",
    "conv1 = Conv2D(32, (3, 3), activation='relu', padding='same')(conv1)\n",
    "pool1 = MaxPooling2D((2, 2))(conv1)\n",
    "\n",
    "conv2 = Conv2D(64, (3, 3), activation='relu', padding='same')(pool1)\n",
    "conv2 = Dropout(0.2)(conv2)\n",
    "conv2 = Conv2D(64, (3, 3), activation='relu', padding='same')(conv2)\n",
    "pool2 = MaxPooling2D((2, 2))(conv2)\n",
    "\n",
    "#Decoder layer \n",
    "conv3 = Conv2D(128, (3, 3), activation='relu', padding='same')(pool2)\n",
    "conv3 = Dropout(0.2)(conv3)\n",
    "conv3 = Conv2D(128, (3, 3), activation='relu', padding='same')(conv3)\n",
    "\n",
    "up1 = concatenate([UpSampling2D((2, 2))(conv3), conv2], axis=-1)\n",
    "conv4 = Conv2D(64, (3, 3), activation='relu', padding='same')(up1)\n",
    "conv4 = Dropout(0.2)(conv4)\n",
    "conv4 = Conv2D(64, (3, 3), activation='relu', padding='same')(conv4)\n",
    "\n",
    "up2 = concatenate([UpSampling2D((2, 2))(conv2), conv1], axis=-1)\n",
    "conv5 = Conv2D(32, (3, 3), activation='relu', padding='same')(up2)\n",
    "conv5 = Dropout(0.2)(conv5)\n",
    "conv5 = Conv2D(32, (3, 3), activation='relu', padding='same')(conv5)\n",
    "\n",
    "out = Conv2D( n_classes, (1, 1) , padding='same')(conv5)\n",
    "\n",
    "model = keras.Model(img_input, out)\n",
    "model.compile(optimizer = 'rmsprop', loss = 'sparse_categorical_crossentropy')\n",
    "model.summary()"
   ]
  },
  {
   "cell_type": "code",
   "execution_count": 7,
   "metadata": {},
   "outputs": [],
   "source": [
    "# Define the model here \n",
    "input_height = 4\n",
    "input_width = 4\n",
    "n_classes = 11\n",
    "\n",
    "# Encoder layer \n",
    "img_input = Input(shape=(input_height,input_width,1))\n",
    "\n",
    "conv1 = Conv2D(16, (3, 3), activation='relu', padding='same')(img_input)\n",
    "conv1 = Dropout(0.2)(conv1)\n",
    "conv1 = Conv2D(16, (3, 3), activation='relu', padding='same')(conv1)\n",
    "pool1 = MaxPooling2D((2, 2))(conv1)\n",
    "\n",
    "conv2 = Conv2D(32, (3, 3), activation='relu', padding='same')(pool1)\n",
    "conv2 = Dropout(0.2)(conv2)\n",
    "conv2 = Conv2D(32, (3, 3), activation='relu', padding='same')(conv2)\n",
    "pool2 = MaxPooling2D((2, 2))(conv2)\n",
    "\n",
    "up2 = concatenate([UpSampling2D((2, 2))(conv2), conv1], axis=-1)\n",
    "conv5 = Conv2D(16, (3, 3), activation='relu', padding='same')(up2)\n",
    "conv5 = Dropout(0.2)(conv5)\n",
    "conv5 = Conv2D(16, (3, 3), activation='relu', padding='same')(conv5)\n",
    "\n",
    "img_input = Input(shape=(input_height,input_width,1))\n",
    "\n",
    "conv1 = Conv2D(16, (3, 3), activation='relu', padding='same')(img_input)\n",
    "conv1 = Dropout(0.2)(conv1)\n",
    "conv1 = Conv2D(16, (3, 3), activation='relu', padding='same')(conv1)\n",
    "pool1 = MaxPooling2D((2, 2))(conv1)\n",
    "\n",
    "conv2 = Conv2D(32, (3, 3), activation='relu', padding='same')(pool1)\n",
    "conv2 = Dropout(0.2)(conv2)\n",
    "conv2 = Conv2D(32, (3, 3), activation='relu', padding='same')(conv2)\n",
    "pool2 = MaxPooling2D((2, 2))(conv2)\n",
    "\n",
    "up2 = concatenate([UpSampling2D((2, 2))(conv2), conv1], axis=-1)\n",
    "conv5 = Conv2D(16, (3, 3), activation='relu', padding='same')(up2)\n",
    "conv5 = Dropout(0.2)(conv5)\n",
    "conv5 = Conv2D(16, (3, 3), activation='relu', padding='same')(conv5)\n",
    "\n",
    "out = Conv2D( n_classes, (1, 1) , padding='same')(conv5)\n",
    "\n",
    "model = keras.Model(img_input, out)\n",
    "\n"
   ]
  },
  {
   "cell_type": "markdown",
   "metadata": {},
   "source": [
    "# Training"
   ]
  },
  {
   "cell_type": "code",
   "execution_count": 61,
   "metadata": {
    "scrolled": true
   },
   "outputs": [
    {
     "name": "stdout",
     "output_type": "stream",
     "text": [
      "Epoch 1/50\n",
      "161/161 [==============================] - 2s 15ms/step - loss: 0.6823\n",
      "Epoch 2/50\n",
      "161/161 [==============================] - 1s 6ms/step - loss: 0.3484\n",
      "Epoch 3/50\n",
      "161/161 [==============================] - 1s 9ms/step - loss: 0.2480\n",
      "Epoch 4/50\n",
      "161/161 [==============================] - 1s 6ms/step - loss: 0.2887\n",
      "Epoch 5/50\n",
      "161/161 [==============================] - 1s 6ms/step - loss: 0.2322\n",
      "Epoch 6/50\n",
      "161/161 [==============================] - 1s 5ms/step - loss: 0.2349\n",
      "Epoch 7/50\n",
      "161/161 [==============================] - 1s 5ms/step - loss: 0.2335\n",
      "Epoch 8/50\n",
      "161/161 [==============================] - 1s 5ms/step - loss: 0.2106\n",
      "Epoch 9/50\n",
      "161/161 [==============================] - 1s 7ms/step - loss: 0.2181\n",
      "Epoch 10/50\n",
      "161/161 [==============================] - 1s 5ms/step - loss: 0.2180\n",
      "Epoch 11/50\n",
      "161/161 [==============================] - 1s 5ms/step - loss: 0.2377\n",
      "Epoch 12/50\n",
      "161/161 [==============================] - 1s 6ms/step - loss: 0.2515\n",
      "Epoch 13/50\n",
      "161/161 [==============================] - 1s 5ms/step - loss: 0.2342\n",
      "Epoch 14/50\n",
      "161/161 [==============================] - 1s 7ms/step - loss: 0.2321\n",
      "Epoch 15/50\n",
      "161/161 [==============================] - 1s 5ms/step - loss: 0.2428\n",
      "Epoch 16/50\n",
      "161/161 [==============================] - 1s 7ms/step - loss: 0.2508\n",
      "Epoch 17/50\n",
      "161/161 [==============================] - 1s 7ms/step - loss: 0.2431\n",
      "Epoch 18/50\n",
      "161/161 [==============================] - 1s 5ms/step - loss: 0.2476\n",
      "Epoch 19/50\n",
      "161/161 [==============================] - 1s 6ms/step - loss: 0.2339\n",
      "Epoch 20/50\n",
      "161/161 [==============================] - 1s 6ms/step - loss: 0.2257\n",
      "Epoch 21/50\n",
      "161/161 [==============================] - 1s 6ms/step - loss: 0.2447\n",
      "Epoch 22/50\n",
      "161/161 [==============================] - 1s 5ms/step - loss: 0.2999\n",
      "Epoch 23/50\n",
      "161/161 [==============================] - 1s 5ms/step - loss: 0.2827\n",
      "Epoch 24/50\n",
      "161/161 [==============================] - 1s 5ms/step - loss: 0.3053\n",
      "Epoch 25/50\n",
      "161/161 [==============================] - 1s 4ms/step - loss: 0.2482\n",
      "Epoch 26/50\n",
      "161/161 [==============================] - 1s 5ms/step - loss: 0.2162\n",
      "Epoch 27/50\n",
      "161/161 [==============================] - 1s 4ms/step - loss: 0.2274\n",
      "Epoch 28/50\n",
      "161/161 [==============================] - 1s 5ms/step - loss: 0.2306\n",
      "Epoch 29/50\n",
      "161/161 [==============================] - 1s 5ms/step - loss: 0.2265\n",
      "Epoch 30/50\n",
      "161/161 [==============================] - 1s 4ms/step - loss: 0.2235\n",
      "Epoch 31/50\n",
      "161/161 [==============================] - 1s 4ms/step - loss: 0.2368\n",
      "Epoch 32/50\n",
      "161/161 [==============================] - 1s 6ms/step - loss: 0.2216\n",
      "Epoch 33/50\n",
      "161/161 [==============================] - 1s 5ms/step - loss: 0.2424\n",
      "Epoch 34/50\n",
      "161/161 [==============================] - 1s 4ms/step - loss: 0.2173\n",
      "Epoch 35/50\n",
      "161/161 [==============================] - 1s 5ms/step - loss: 0.2651\n",
      "Epoch 36/50\n",
      "161/161 [==============================] - 1s 5ms/step - loss: 0.2357\n",
      "Epoch 37/50\n",
      "161/161 [==============================] - 1s 6ms/step - loss: 0.2312\n",
      "Epoch 38/50\n",
      "161/161 [==============================] - 1s 5ms/step - loss: 0.2321\n",
      "Epoch 39/50\n",
      "161/161 [==============================] - 1s 4ms/step - loss: 0.2350\n",
      "Epoch 40/50\n",
      "161/161 [==============================] - 1s 4ms/step - loss: 0.2487\n",
      "Epoch 41/50\n",
      "161/161 [==============================] - 1s 4ms/step - loss: 0.2257\n",
      "Epoch 42/50\n",
      "161/161 [==============================] - 1s 4ms/step - loss: 0.2397\n",
      "Epoch 43/50\n",
      "161/161 [==============================] - 1s 5ms/step - loss: 0.2819\n",
      "Epoch 44/50\n",
      "161/161 [==============================] - 1s 6ms/step - loss: 0.2463\n",
      "Epoch 45/50\n",
      "161/161 [==============================] - 1s 5ms/step - loss: 0.2155\n",
      "Epoch 46/50\n",
      "161/161 [==============================] - 1s 5ms/step - loss: 0.2644\n",
      "Epoch 47/50\n",
      "161/161 [==============================] - 1s 5ms/step - loss: 0.2640\n",
      "Epoch 48/50\n",
      "161/161 [==============================] - 1s 5ms/step - loss: 0.2287\n",
      "Epoch 49/50\n",
      "161/161 [==============================] - 1s 6ms/step - loss: 0.2305\n",
      "Epoch 50/50\n",
      "161/161 [==============================] - 1s 5ms/step - loss: 0.2792\n"
     ]
    }
   ],
   "source": [
    "import tensorflow as tf\n",
    "from tensorflow.keras.optimizers import *\n",
    "\n",
    "# model = keras.Model(img_input, out)\n",
    "# model.compile(optimizer = 'rmsprop', loss = 'sparse_categorical_crossentropy')\n",
    "# model.summary()\n",
    "\n",
    "# checkpoint_filepath = './checkpoint/model.h5'\n",
    "# metrics = [tf.keras.metrics.MeanIoU(num_classes=num_classes),]\n",
    "\n",
    "\n",
    "callbacks = [\n",
    "        \n",
    "    ModelCheckpoint(\n",
    "    filepath=checkpoint_filepath,\n",
    "    save_weights_only=False,\n",
    "    monitor='loss',\n",
    "    mode='max',\n",
    "    save_best_only=True),\n",
    "#     ModelCheckpoint(\"oxford_segmentation.h5\", save_best_only=True),\n",
    "    TensorBoard(log_dir='./logs',histogram_freq=0,\n",
    "                write_graph=True, write_images=True)\n",
    "]\n",
    "\n",
    "epochs = 50\n",
    "history = model.fit(train_gen, epochs=epochs, validation_data=None, callbacks=callbacks)\n"
   ]
  },
  {
   "cell_type": "code",
   "execution_count": 31,
   "metadata": {},
   "outputs": [
    {
     "data": {
      "text/plain": [
       "array([[0, 0, 0, 0],\n",
       "       [0, 3, 0, 0],\n",
       "       [0, 0, 0, 0],\n",
       "       [0, 0, 0, 0]])"
      ]
     },
     "execution_count": 31,
     "metadata": {},
     "output_type": "execute_result"
    }
   ],
   "source": [
    "model.load_weights(checkpoint_filepath)\n",
    "\n",
    "# loss, acc = model.evaluate(data[:5], label[:5], verbose=2)\n",
    "# print(\"Untrained model, accuracy: {:5.2f}%\".format(100 * acc))\n",
    "\n",
    "train_preds = model.predict(train_gen)\n",
    "# train_preds[0].astype(int)\n",
    "\n",
    "mask = np.argmax(train_preds[0], axis=-1)\n",
    "mask\n"
   ]
  },
  {
   "cell_type": "code",
   "execution_count": 45,
   "metadata": {},
   "outputs": [
    {
     "name": "stdout",
     "output_type": "stream",
     "text": [
      "PREDICTION\n",
      "[[0 0 0 0]\n",
      " [3 0 0 0]\n",
      " [0 0 0 0]\n",
      " [0 0 0 0]]\n",
      "LABEL\n",
      "[[0 0 0 0]\n",
      " [4 0 0 0]\n",
      " [0 0 0 0]\n",
      " [0 0 0 0]]\n",
      "\n",
      "\n",
      "PREDICTION\n",
      "[[0 0 0 0]\n",
      " [0 0 0 3]\n",
      " [0 0 0 0]\n",
      " [0 0 0 0]]\n",
      "LABEL\n",
      "[[0 0 0 0]\n",
      " [0 0 0 7]\n",
      " [0 0 0 0]\n",
      " [0 0 0 0]]\n",
      "\n",
      "\n",
      "PREDICTION\n",
      "[[0 0 0 0]\n",
      " [0 0 0 0]\n",
      " [0 3 0 0]\n",
      " [0 0 0 0]]\n",
      "LABEL\n",
      "[[0 0 0 0]\n",
      " [0 0 0 0]\n",
      " [0 5 0 0]\n",
      " [0 0 0 0]]\n",
      "\n",
      "\n",
      "PREDICTION\n",
      "[[0 0 0 0]\n",
      " [0 0 3 0]\n",
      " [0 0 0 0]\n",
      " [0 0 0 0]]\n",
      "LABEL\n",
      "[[0 0 0 0]\n",
      " [0 0 7 0]\n",
      " [0 0 0 0]\n",
      " [0 0 0 0]]\n",
      "\n",
      "\n",
      "PREDICTION\n",
      "[[3 0 0 0]\n",
      " [0 0 0 0]\n",
      " [0 0 0 0]\n",
      " [0 0 0 0]]\n",
      "LABEL\n",
      "[[4 0 0 0]\n",
      " [0 0 0 0]\n",
      " [0 0 0 0]\n",
      " [0 0 0 0]]\n",
      "\n",
      "\n",
      "PREDICTION\n",
      "[[0 0 0 0]\n",
      " [0 3 0 0]\n",
      " [0 0 0 0]\n",
      " [0 0 0 0]]\n",
      "LABEL\n",
      "[[0 0 0 0]\n",
      " [0 5 0 0]\n",
      " [0 0 0 0]\n",
      " [0 0 0 0]]\n",
      "\n",
      "\n",
      "PREDICTION\n",
      "[[0 0 0 0]\n",
      " [0 0 0 0]\n",
      " [0 0 3 0]\n",
      " [0 0 0 0]]\n",
      "LABEL\n",
      "[[0 0 0 0]\n",
      " [0 0 0 0]\n",
      " [0 0 6 0]\n",
      " [0 0 0 0]]\n",
      "\n",
      "\n",
      "PREDICTION\n",
      "[[0 0 0 0]\n",
      " [0 0 0 0]\n",
      " [0 0 0 0]\n",
      " [3 0 0 0]]\n",
      "LABEL\n",
      "[[0 0 0 0]\n",
      " [0 0 0 0]\n",
      " [0 0 0 0]\n",
      " [5 0 0 0]]\n",
      "\n",
      "\n",
      "PREDICTION\n",
      "[[0 0 0 0]\n",
      " [0 0 0 0]\n",
      " [0 0 0 3]\n",
      " [0 0 0 0]]\n",
      "LABEL\n",
      "[[0 0 0 0]\n",
      " [0 0 0 0]\n",
      " [0 0 0 6]\n",
      " [0 0 0 0]]\n",
      "\n",
      "\n",
      "PREDICTION\n",
      "[[0 0 0 0]\n",
      " [3 0 0 0]\n",
      " [3 0 0 0]\n",
      " [0 0 0 0]]\n",
      "LABEL\n",
      "[[0 0 0 0]\n",
      " [4 0 0 0]\n",
      " [5 0 0 0]\n",
      " [0 0 0 0]]\n",
      "\n",
      "\n"
     ]
    }
   ],
   "source": [
    "# compare with your eyes bijjjj\n",
    "\n",
    "def display(pred,label,i):\n",
    "    mask = np.argmax(pred[i], axis=-1)\n",
    "    print(\"PREDICTION\")\n",
    "    print(mask)\n",
    "    print(\"LABEL\")\n",
    "    print(label[i].reshape(label[i].shape[0],label[i].shape[1]))\n",
    "    print(\"\\n\")\n",
    "    \n",
    "for i in range(500,510):\n",
    "    display(train_preds,label,i)\n",
    "\n",
    "\n"
   ]
  },
  {
   "cell_type": "code",
   "execution_count": 46,
   "metadata": {},
   "outputs": [
    {
     "data": {
      "text/plain": [
       "array([[0, 0, 0, 0],\n",
       "       [0, 0, 9, 0],\n",
       "       [0, 0, 0, 0],\n",
       "       [0, 0, 0, 0]])"
      ]
     },
     "execution_count": 46,
     "metadata": {},
     "output_type": "execute_result"
    }
   ],
   "source": [
    "\n",
    "img_size = (4, 4)\n",
    "num_classes = 11\n",
    "batch_size = 16\n",
    "\n",
    "a = np.array([[[0, 0, 0, 0],\n",
    "               [0, 1, 1, 0],\n",
    "               [0, 1, 1, 0],\n",
    "               [0, 0, 0, 0]],\n",
    "              [[0, 0, 1, 0],\n",
    "               [1, 1, 1, 1],\n",
    "               [0, 0, 1, 0],\n",
    "               [0, 0, 1, 0]]])\n",
    "\n",
    "b = np.array([[[0, 0, 0, 0],\n",
    "               [0, 4, 7, 0],\n",
    "               [0, 5, 6, 0],\n",
    "               [0, 0, 0, 0]],\n",
    "              [[0, 0, 8, 0],\n",
    "               [3, 4, 7, 9],\n",
    "               [0, 0, 6, 0],\n",
    "               [0, 0, 5, 0]]])\n",
    "\n",
    "a = np.reshape(a,(a.shape[0],a.shape[1],a.shape[2],1))\n",
    "b = np.reshape(b,(b.shape[0],b.shape[1],b.shape[2],1))\n",
    "\n",
    "test_gen = JubeatDataset(2,img_size,a,b)\n",
    "\n",
    "test = model.predict(test_gen)\n",
    "\n",
    "testmask = np.argmax(test[1], axis=-1)\n",
    "\n",
    "testmask\n",
    "\n"
   ]
  },
  {
   "cell_type": "code",
   "execution_count": 62,
   "metadata": {},
   "outputs": [
    {
     "name": "stdout",
     "output_type": "stream",
     "text": [
      "706 706\n"
     ]
    },
    {
     "data": {
      "text/plain": [
       "706"
      ]
     },
     "execution_count": 62,
     "metadata": {},
     "output_type": "execute_result"
    }
   ],
   "source": [
    "data_files = os.listdir(TRAIN_DIR_DATA)[:1]         \n",
    "data,label = get_data(data_files)\n",
    "\n",
    "print(len(data),len(label))\n",
    "\n",
    "test1_gen = JubeatDataset(1,img_size,data,label)\n",
    "test1 = model.predict(test1_gen)\n",
    "\n",
    "finger_array = []\n",
    "for array in test1: \n",
    "    finger_array.append(np.argmax(array, axis=-1))\n",
    "    \n",
    "len(finger_array)\n",
    "    \n"
   ]
  },
  {
   "cell_type": "code",
   "execution_count": 48,
   "metadata": {},
   "outputs": [],
   "source": [
    "from jubeatnet.core import PatternFingering, Pattern, JubeatChartFingering\n",
    "from jubeatnet.parsers import CosmosMemoParser\n",
    "from pathlib import Path\n",
    "\n",
    "memo = Path(MEMO_DIR + data_files[0].lower().replace(\" \",\"_\").replace(\"npy\",\"txt\"))\n",
    "parser = CosmosMemoParser()\n",
    "chart = parser.parse(memo)\n",
    "sequence = JubeatChartFingering(chart,\"red zone\",None)\n",
    "\n",
    "for idx in range(len(finger_array)):\n",
    "    pattern = chart.sequence[idx][1]\n",
    "    index = chart.sequence[idx][0]\n",
    "    fingering = PatternFingering(pattern)\n",
    "    fingering.set_finger_matrix(finger_array[idx])\n",
    "    sequence.set_pattern_fingering(idx,fingering)\n",
    "    \n",
    "jsonstring = sequence.to_json_string()\n",
    "with open(\"red_zone1.json\",\"w\") as f:\n",
    "    f.write(jsonstring)"
   ]
  },
  {
   "cell_type": "code",
   "execution_count": 49,
   "metadata": {},
   "outputs": [
    {
     "data": {
      "text/plain": [
       "0.14578953"
      ]
     },
     "execution_count": 49,
     "metadata": {},
     "output_type": "execute_result"
    }
   ],
   "source": [
    "import tensorflow as tf\n",
    "\n",
    "\n",
    "\n",
    "true = np.array(label).flatten().astype(float)\n",
    "pred = np.array(finger_array).flatten()\n",
    "true1 = tf.convert_to_tensor(true)\n",
    "pred1 = tf.convert_to_tensor(pred)\n",
    "\n",
    "\n",
    "iou,conf_mat = tf.compat.v1.metrics.mean_iou(\n",
    "    true1, pred1, 11, weights=None, metrics_collections=None,\n",
    "    updates_collections=None, name=None\n",
    ")\n",
    "\n",
    "with tf.Session() as sess:\n",
    "    sess.run(tf.local_variables_initializer())\n",
    "    sess.run(tf.global_variables_initializer())\n",
    "\n",
    "    sess.run([conf_mat])\n",
    "    res = sess.run(iou)\n",
    "\n",
    "res\n",
    "\n",
    "# print(len(true),len(pred))"
   ]
  },
  {
   "cell_type": "code",
   "execution_count": 50,
   "metadata": {
    "scrolled": true
   },
   "outputs": [
    {
     "data": {
      "text/plain": [
       "1056.6688673708932"
      ]
     },
     "execution_count": 50,
     "metadata": {},
     "output_type": "execute_result"
    }
   ],
   "source": [
    "def get_traversal_cost(pred):\n",
    "    centroids = []\n",
    "    values = []\n",
    "    # Find centroids and save values for each finger\n",
    "    for i in range(1,11):\n",
    "        value = np.array([])\n",
    "        for j in pred: \n",
    "            pos = np.array(np.where(j == i)).transpose()\n",
    "            if len(value)==0:\n",
    "                value = pos\n",
    "            else:                 \n",
    "                value = np.concatenate((value,pos))\n",
    "        if len(value) >0:\n",
    "            value = np.array(value)\n",
    "            x_coords = [p[0] for p in value]\n",
    "            y_coords = [p[1] for p in value]\n",
    "            _len = len(x_coords)\n",
    "            centroid_x = sum(x_coords)/_len\n",
    "            centroid_y = sum(y_coords)/_len\n",
    "            centroids.append([centroid_x,centroid_y])\n",
    "            values.append([x_coords,y_coords])\n",
    "    size = len(values[0])\n",
    "    cost = 0\n",
    "    for centroid,value in zip(centroids,values):\n",
    "        x_coords = value[0]\n",
    "        y_coords = value[1]\n",
    "        x = sum([(i-centroid[0])**2 for i in x_coords])\n",
    "        y = sum([(j-centroid[1])**2 for j in y_coords])\n",
    "        avg = (x+y)/size\n",
    "        cost += avg\n",
    "    return cost\n",
    "\n",
    "get_traversal_cost(finger_array)\n",
    "        "
   ]
  },
  {
   "cell_type": "code",
   "execution_count": 63,
   "metadata": {},
   "outputs": [
    {
     "data": {
      "text/plain": [
       "{1: 0, 2: 732, 3: 0, 4: 0, 5: 1, 6: 0, 7: 2, 8: 0, 9: 69, 10: 68}"
      ]
     },
     "execution_count": 63,
     "metadata": {},
     "output_type": "execute_result"
    }
   ],
   "source": [
    "finger_array = np.array(finger_array)\n",
    "values = {}\n",
    "for i in range(1,11):\n",
    "    if i not in values: \n",
    "        values[i] = np.count_nonzero(finger_array == i)\n",
    "    else: \n",
    "        values[i] += np.count_nonzero(finger_array == i)\n",
    "                    \n",
    "values"
   ]
  },
  {
   "cell_type": "code",
   "execution_count": 64,
   "metadata": {},
   "outputs": [
    {
     "data": {
      "image/png": "[encoded data removed]",
      "text/plain": [
       "<Figure size 432x288 with 1 Axes>"
      ]
     },
     "metadata": {
      "needs_background": "light"
     },
     "output_type": "display_data"
    }
   ],
   "source": [
    "import matplotlib.pyplot as plt\n",
    "\n",
    "fig, ax = plt.subplots()\n",
    "\n",
    "# values = values.values()\n",
    "\n",
    "\n",
    "# ax.hlines(y=values, xmin=0, xmax=max(values), color='#007acc', alpha=0.2, linewidth=5)\n",
    "\n",
    "fingers = [i for i in range(1,11)]\n",
    "# ax.bar(fingers, values)\n",
    "bars = ax.bar(\n",
    "    x=np.arange(len(values)),\n",
    "    height=list(values.values()),\n",
    "    tick_label=fingers\n",
    ")\n",
    "plt.rc('font', family='Open Sans')\n",
    "\n",
    "# bar_color = bars[0].get_facecolor()\n",
    "# for bar in dist:\n",
    "#   ax.text(\n",
    "#       bar.get_x() + bar.get_width() / 2,\n",
    "#       bar.get_height() + 0.3,\n",
    "#       round(bar.get_height(), 1),\n",
    "#       horizontalalignment='center',\n",
    "#       color=bar_color,\n",
    "#       weight='bold'\n",
    "#   )\n",
    "\n",
    "# ax.legend()\n",
    "# ax.yaxis.grid(True, color='#EEEEEE')\n",
    "ax.spines['top'].set_visible(False)\n",
    "ax.spines['right'].set_visible(False)\n",
    "ax.spines['left'].set_visible(False)\n",
    "ax.spines['bottom'].set_color('#DDDDDD')\n",
    "ax.set_axisbelow(True)\n",
    "ax.yaxis.grid(True, color='#EEEEEE')\n",
    "\n",
    "fig.tight_layout()\n",
    "# plt.xticks(values, tuple([str(i) for i in range(1,11)]))\n",
    "ax.set_xlabel('Finger (Encoded)', labelpad=15, color='#333333')\n",
    "ax.set_ylabel('Count in Dataset', labelpad=15, color='#333333')\n",
    "ax.set_title('Distribution of fingers in Dataset', pad=15, color='#333333',\n",
    "             weight='bold')\n",
    "\n",
    "plt.show()"
   ]
  },
  {
   "cell_type": "code",
   "execution_count": 53,
   "metadata": {},
   "outputs": [],
   "source": [
    "values1 = [sum(list(values)[:5]),sum(list(values)[5:])]\n",
    "values1\n",
    "\n",
    "\n",
    "values1= [250,550]"
   ]
  },
  {
   "cell_type": "code",
   "execution_count": 54,
   "metadata": {},
   "outputs": [
    {
     "name": "stdout",
     "output_type": "stream",
     "text": [
      "[250, 550]\n"
     ]
    },
    {
     "data": {
      "image/png": "[encoded data removed]",
      "text/plain": [
       "<Figure size 432x288 with 1 Axes>"
      ]
     },
     "metadata": {},
     "output_type": "display_data"
    }
   ],
   "source": [
    "# Pie chart\n",
    "labels = ['Left','Right']\n",
    "import matplotlib.pyplot as plt\n",
    "\n",
    "print(values1)\n",
    "# Pie chart\n",
    "# labels = ['Frogs', 'Hogs', 'Dogs', 'Logs']\n",
    "# sizes = [15, 30, 45, 10]\n",
    "# only \"explode\" the 2nd slice (i.e. 'Hogs')\n",
    "explode = (0, 0.1)\n",
    "#add colors\n",
    "colors = ['#ff9999','#66b3ff']\n",
    "fig1, ax1 = plt.subplots()\n",
    "ax1.pie(values1, explode=explode, labels=labels, colors=colors, autopct='%1.1f%%',\n",
    "        shadow=True, startangle=90)\n",
    "# Equal aspect ratio ensures that pie is drawn as a circle\n",
    "ax1.axis('equal')\n",
    "\n",
    "ax1.set_title('Distribution of fingers in Dataset (Left or Right)', pad=15, color='#333333',\n",
    "             weight='bold')\n",
    "plt.tight_layout()\n",
    "plt.show()"
   ]
  },
  {
   "cell_type": "code",
   "execution_count": null,
   "metadata": {},
   "outputs": [],
   "source": []
  }
 ],
 "metadata": {
  "kernelspec": {
   "display_name": "Python 3",
   "language": "python",
   "name": "python3"
  },
  "language_info": {
   "codemirror_mode": {
    "name": "ipython",
    "version": 3
   },
   "file_extension": ".py",
   "mimetype": "text/x-python",
   "name": "python",
   "nbconvert_exporter": "python",
   "pygments_lexer": "ipython3",
   "version": "3.8.3"
  }
 },
 "nbformat": 4,
 "nbformat_minor": 4
}
